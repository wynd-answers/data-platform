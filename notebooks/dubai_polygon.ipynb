{
 "cells": [
  {
   "cell_type": "code",
   "execution_count": 1,
   "metadata": {},
   "outputs": [],
   "source": [
    "import geopandas as gpd"
   ]
  },
  {
   "cell_type": "code",
   "execution_count": 2,
   "metadata": {},
   "outputs": [],
   "source": [
    "gpkg_path = \"gadm36_ARE.gpkg\" \n",
    "# Layer selected after sampling on GeoPackage viewer\n",
    "gdf = gpd.read_file(gpkg_path, layer='gadm36_ARE_2') "
   ]
  },
  {
   "cell_type": "code",
   "execution_count": 3,
   "metadata": {},
   "outputs": [
    {
     "data": {
      "text/html": [
       "<div>\n",
       "<style scoped>\n",
       "    .dataframe tbody tr th:only-of-type {\n",
       "        vertical-align: middle;\n",
       "    }\n",
       "\n",
       "    .dataframe tbody tr th {\n",
       "        vertical-align: top;\n",
       "    }\n",
       "\n",
       "    .dataframe thead th {\n",
       "        text-align: right;\n",
       "    }\n",
       "</style>\n",
       "<table border=\"1\" class=\"dataframe\">\n",
       "  <thead>\n",
       "    <tr style=\"text-align: right;\">\n",
       "      <th></th>\n",
       "      <th>Country</th>\n",
       "      <th>City</th>\n",
       "      <th>Sector</th>\n",
       "      <th>Geometry</th>\n",
       "    </tr>\n",
       "  </thead>\n",
       "  <tbody>\n",
       "    <tr>\n",
       "      <th>47</th>\n",
       "      <td>United Arab Emirates</td>\n",
       "      <td>Dubai</td>\n",
       "      <td>Sector 1</td>\n",
       "      <td>MULTIPOLYGON (((55.25430 25.31585, 55.25435 25...</td>\n",
       "    </tr>\n",
       "    <tr>\n",
       "      <th>48</th>\n",
       "      <td>United Arab Emirates</td>\n",
       "      <td>Dubai</td>\n",
       "      <td>Sector 2</td>\n",
       "      <td>MULTIPOLYGON (((55.39360 25.21278, 55.38230 25...</td>\n",
       "    </tr>\n",
       "    <tr>\n",
       "      <th>49</th>\n",
       "      <td>United Arab Emirates</td>\n",
       "      <td>Dubai</td>\n",
       "      <td>Sector 3</td>\n",
       "      <td>MULTIPOLYGON (((55.14354 25.10092, 55.14345 25...</td>\n",
       "    </tr>\n",
       "    <tr>\n",
       "      <th>50</th>\n",
       "      <td>United Arab Emirates</td>\n",
       "      <td>Dubai</td>\n",
       "      <td>Sector 4</td>\n",
       "      <td>MULTIPOLYGON (((55.34666 25.18528, 55.34640 25...</td>\n",
       "    </tr>\n",
       "    <tr>\n",
       "      <th>51</th>\n",
       "      <td>United Arab Emirates</td>\n",
       "      <td>Dubai</td>\n",
       "      <td>Sector 5</td>\n",
       "      <td>MULTIPOLYGON (((55.12354 25.07296, 55.12313 25...</td>\n",
       "    </tr>\n",
       "    <tr>\n",
       "      <th>52</th>\n",
       "      <td>United Arab Emirates</td>\n",
       "      <td>Dubai</td>\n",
       "      <td>Sector 6</td>\n",
       "      <td>MULTIPOLYGON (((55.51554 25.17762, 55.51581 25...</td>\n",
       "    </tr>\n",
       "  </tbody>\n",
       "</table>\n",
       "</div>"
      ],
      "text/plain": [
       "                 Country   City    Sector  \\\n",
       "47  United Arab Emirates  Dubai  Sector 1   \n",
       "48  United Arab Emirates  Dubai  Sector 2   \n",
       "49  United Arab Emirates  Dubai  Sector 3   \n",
       "50  United Arab Emirates  Dubai  Sector 4   \n",
       "51  United Arab Emirates  Dubai  Sector 5   \n",
       "52  United Arab Emirates  Dubai  Sector 6   \n",
       "\n",
       "                                             Geometry  \n",
       "47  MULTIPOLYGON (((55.25430 25.31585, 55.25435 25...  \n",
       "48  MULTIPOLYGON (((55.39360 25.21278, 55.38230 25...  \n",
       "49  MULTIPOLYGON (((55.14354 25.10092, 55.14345 25...  \n",
       "50  MULTIPOLYGON (((55.34666 25.18528, 55.34640 25...  \n",
       "51  MULTIPOLYGON (((55.12354 25.07296, 55.12313 25...  \n",
       "52  MULTIPOLYGON (((55.51554 25.17762, 55.51581 25...  "
      ]
     },
     "execution_count": 3,
     "metadata": {},
     "output_type": "execute_result"
    }
   ],
   "source": [
    "# Filter sectors (districts) closer to the coastline\n",
    "dubai_gdf = gdf[gdf['NAME_2'].isin(['Sector 1','Sector 2','Sector 3','Sector 4','Sector 5','Sector 6'])]\n",
    "# Essential columns\n",
    "dubai_gdf = dubai_gdf[['NAME_0','NAME_1','NAME_2','geometry']] \n",
    "# Rename columns\n",
    "dubai_gdf.columns = ['Country','City','Sector','Geometry']\n",
    "dubai_gdf "
   ]
  },
  {
   "cell_type": "code",
   "execution_count": 4,
   "metadata": {},
   "outputs": [
    {
     "data": {
      "text/plain": [
       "<matplotlib.axes._subplots.AxesSubplot at 0x165ca5ee688>"
      ]
     },
     "execution_count": 4,
     "metadata": {},
     "output_type": "execute_result"
    },
    {
     "data": {
      "image/png": "[encoded data removed]",
      "text/plain": [
       "<Figure size 432x288 with 1 Axes>"
      ]
     },
     "metadata": {
      "needs_background": "light"
     },
     "output_type": "display_data"
    }
   ],
   "source": [
    "multi_polygon_sector_3 = dubai_gdf.iloc[2][3]\n",
    "mps3 = gpd.GeoSeries(multi_polygon_sector_3)\n",
    "mps3.plot()"
   ]
  }
 ],
 "metadata": {
  "kernelspec": {
   "display_name": "Python 3",
   "language": "python",
   "name": "python3"
  },
  "language_info": {
   "codemirror_mode": {
    "name": "ipython",
    "version": 3
   },
   "file_extension": ".py",
   "mimetype": "text/x-python",
   "name": "python",
   "nbconvert_exporter": "python",
   "pygments_lexer": "ipython3",
   "version": "3.7.4"
  }
 },
 "nbformat": 4,
 "nbformat_minor": 4
}
