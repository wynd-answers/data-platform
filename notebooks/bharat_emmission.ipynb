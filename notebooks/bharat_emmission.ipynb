{
 "cells": [
  {
   "cell_type": "code",
   "execution_count": 1,
   "id": "b12794ff",
   "metadata": {},
   "outputs": [],
   "source": [
    "import pandas as pd\n",
    "import geopandas as gpd\n",
    "import h3pandas\n",
    "import matplotlib.pyplot as plt\n",
    "import pydeck as pdk\n",
    "from pydeck.types import String\n",
    "from keplergl import KeplerGl\n",
    "import pandas_profiling as pp\n",
    "from h3 import h3"
   ]
  },
  {
   "cell_type": "code",
   "execution_count": 2,
   "id": "01f1f5a8",
   "metadata": {},
   "outputs": [],
   "source": [
    "URL_HCHO = 'https://api.v2.emissions-api.org/api/v2/methane/geo.json?country=IND&begin=2021-01-01&end=2021-11-11&limit=10000000&offset=0'"
   ]
  },
  {
   "cell_type": "code",
   "execution_count": 3,
   "id": "42af80ff",
   "metadata": {},
   "outputs": [
    {
     "data": {
      "text/html": [
       "<div>\n",
       "<style scoped>\n",
       "    .dataframe tbody tr th:only-of-type {\n",
       "        vertical-align: middle;\n",
       "    }\n",
       "\n",
       "    .dataframe tbody tr th {\n",
       "        vertical-align: top;\n",
       "    }\n",
       "\n",
       "    .dataframe thead th {\n",
       "        text-align: right;\n",
       "    }\n",
       "</style>\n",
       "<table border=\"1\" class=\"dataframe\">\n",
       "  <thead>\n",
       "    <tr style=\"text-align: right;\">\n",
       "      <th></th>\n",
       "      <th>timestamp</th>\n",
       "      <th>value</th>\n",
       "      <th>geometry</th>\n",
       "    </tr>\n",
       "  </thead>\n",
       "  <tbody>\n",
       "    <tr>\n",
       "      <th>0</th>\n",
       "      <td>2021-01-02T08:20:13.712000+00:00</td>\n",
       "      <td>1935.911011</td>\n",
       "      <td>POINT (84.45195 25.00075)</td>\n",
       "    </tr>\n",
       "    <tr>\n",
       "      <th>1</th>\n",
       "      <td>2021-01-02T08:20:09.512000+00:00</td>\n",
       "      <td>1924.194824</td>\n",
       "      <td>POINT (84.20844 24.64302)</td>\n",
       "    </tr>\n",
       "    <tr>\n",
       "      <th>2</th>\n",
       "      <td>2021-01-02T08:20:25.472000+00:00</td>\n",
       "      <td>1930.083496</td>\n",
       "      <td>POINT (83.78289 25.34387)</td>\n",
       "    </tr>\n",
       "    <tr>\n",
       "      <th>3</th>\n",
       "      <td>2021-01-02T08:20:22.112000+00:00</td>\n",
       "      <td>1927.322998</td>\n",
       "      <td>POINT (83.54106 24.98673)</td>\n",
       "    </tr>\n",
       "    <tr>\n",
       "      <th>4</th>\n",
       "      <td>2021-01-02T08:20:16.232000+00:00</td>\n",
       "      <td>1912.988037</td>\n",
       "      <td>POINT (85.15534 25.36219)</td>\n",
       "    </tr>\n",
       "  </tbody>\n",
       "</table>\n",
       "</div>"
      ],
      "text/plain": [
       "                          timestamp        value                   geometry\n",
       "0  2021-01-02T08:20:13.712000+00:00  1935.911011  POINT (84.45195 25.00075)\n",
       "1  2021-01-02T08:20:09.512000+00:00  1924.194824  POINT (84.20844 24.64302)\n",
       "2  2021-01-02T08:20:25.472000+00:00  1930.083496  POINT (83.78289 25.34387)\n",
       "3  2021-01-02T08:20:22.112000+00:00  1927.322998  POINT (83.54106 24.98673)\n",
       "4  2021-01-02T08:20:16.232000+00:00  1912.988037  POINT (85.15534 25.36219)"
      ]
     },
     "execution_count": 3,
     "metadata": {},
     "output_type": "execute_result"
    }
   ],
   "source": [
    "bharat_hcho = gpd.read_file(URL_HCHO)\n",
    "bharat_hcho.head()"
   ]
  },
  {
   "cell_type": "code",
   "execution_count": 4,
   "id": "2c5c8360",
   "metadata": {},
   "outputs": [
    {
     "data": {
      "text/plain": [
       "(29752, 3)"
      ]
     },
     "execution_count": 4,
     "metadata": {},
     "output_type": "execute_result"
    }
   ],
   "source": [
    "bharat_hcho.shape"
   ]
  },
  {
   "cell_type": "code",
   "execution_count": 5,
   "id": "d8028fe7",
   "metadata": {},
   "outputs": [
    {
     "data": {
      "text/html": [
       "<div>\n",
       "<style scoped>\n",
       "    .dataframe tbody tr th:only-of-type {\n",
       "        vertical-align: middle;\n",
       "    }\n",
       "\n",
       "    .dataframe tbody tr th {\n",
       "        vertical-align: top;\n",
       "    }\n",
       "\n",
       "    .dataframe thead th {\n",
       "        text-align: right;\n",
       "    }\n",
       "</style>\n",
       "<table border=\"1\" class=\"dataframe\">\n",
       "  <thead>\n",
       "    <tr style=\"text-align: right;\">\n",
       "      <th></th>\n",
       "      <th>timestamp</th>\n",
       "      <th>value</th>\n",
       "      <th>geometry</th>\n",
       "      <th>lng</th>\n",
       "      <th>lat</th>\n",
       "    </tr>\n",
       "  </thead>\n",
       "  <tbody>\n",
       "    <tr>\n",
       "      <th>0</th>\n",
       "      <td>2021-01-02T08:20:13.712000+00:00</td>\n",
       "      <td>1935.911011</td>\n",
       "      <td>POINT (84.45195 25.00075)</td>\n",
       "      <td>84.451946</td>\n",
       "      <td>25.000754</td>\n",
       "    </tr>\n",
       "    <tr>\n",
       "      <th>1</th>\n",
       "      <td>2021-01-02T08:20:09.512000+00:00</td>\n",
       "      <td>1924.194824</td>\n",
       "      <td>POINT (84.20844 24.64302)</td>\n",
       "      <td>84.208445</td>\n",
       "      <td>24.643024</td>\n",
       "    </tr>\n",
       "    <tr>\n",
       "      <th>2</th>\n",
       "      <td>2021-01-02T08:20:25.472000+00:00</td>\n",
       "      <td>1930.083496</td>\n",
       "      <td>POINT (83.78289 25.34387)</td>\n",
       "      <td>83.782890</td>\n",
       "      <td>25.343869</td>\n",
       "    </tr>\n",
       "    <tr>\n",
       "      <th>3</th>\n",
       "      <td>2021-01-02T08:20:22.112000+00:00</td>\n",
       "      <td>1927.322998</td>\n",
       "      <td>POINT (83.54106 24.98673)</td>\n",
       "      <td>83.541059</td>\n",
       "      <td>24.986733</td>\n",
       "    </tr>\n",
       "    <tr>\n",
       "      <th>4</th>\n",
       "      <td>2021-01-02T08:20:16.232000+00:00</td>\n",
       "      <td>1912.988037</td>\n",
       "      <td>POINT (85.15534 25.36219)</td>\n",
       "      <td>85.155342</td>\n",
       "      <td>25.362193</td>\n",
       "    </tr>\n",
       "  </tbody>\n",
       "</table>\n",
       "</div>"
      ],
      "text/plain": [
       "                          timestamp        value                   geometry  \\\n",
       "0  2021-01-02T08:20:13.712000+00:00  1935.911011  POINT (84.45195 25.00075)   \n",
       "1  2021-01-02T08:20:09.512000+00:00  1924.194824  POINT (84.20844 24.64302)   \n",
       "2  2021-01-02T08:20:25.472000+00:00  1930.083496  POINT (83.78289 25.34387)   \n",
       "3  2021-01-02T08:20:22.112000+00:00  1927.322998  POINT (83.54106 24.98673)   \n",
       "4  2021-01-02T08:20:16.232000+00:00  1912.988037  POINT (85.15534 25.36219)   \n",
       "\n",
       "         lng        lat  \n",
       "0  84.451946  25.000754  \n",
       "1  84.208445  24.643024  \n",
       "2  83.782890  25.343869  \n",
       "3  83.541059  24.986733  \n",
       "4  85.155342  25.362193  "
      ]
     },
     "execution_count": 5,
     "metadata": {},
     "output_type": "execute_result"
    }
   ],
   "source": [
    "bharat_hcho['lng'] = bharat_hcho.geometry.x\n",
    "bharat_hcho['lat'] = bharat_hcho.geometry.y\n",
    "bharat_hcho.head()"
   ]
  },
  {
   "cell_type": "code",
   "execution_count": null,
   "id": "38851d72",
   "metadata": {},
   "outputs": [],
   "source": []
  },
  {
   "cell_type": "code",
   "execution_count": 6,
   "id": "be1e3093",
   "metadata": {},
   "outputs": [
    {
     "name": "stdout",
     "output_type": "stream",
     "text": [
      "<class 'geopandas.geodataframe.GeoDataFrame'>\n",
      "RangeIndex: 29752 entries, 0 to 29751\n",
      "Data columns (total 5 columns):\n",
      " #   Column     Non-Null Count  Dtype   \n",
      "---  ------     --------------  -----   \n",
      " 0   timestamp  29752 non-null  object  \n",
      " 1   value      29752 non-null  float64 \n",
      " 2   geometry   29752 non-null  geometry\n",
      " 3   lng        29752 non-null  float64 \n",
      " 4   lat        29752 non-null  float64 \n",
      "dtypes: float64(3), geometry(1), object(1)\n",
      "memory usage: 1.1+ MB\n"
     ]
    }
   ],
   "source": [
    "bharat_hcho.info()"
   ]
  },
  {
   "cell_type": "code",
   "execution_count": 7,
   "id": "8cdabf34",
   "metadata": {},
   "outputs": [],
   "source": [
    "bharat_hcho['timestamp'] = pd.to_datetime(bharat_hcho['timestamp'])"
   ]
  },
  {
   "cell_type": "code",
   "execution_count": null,
   "id": "104e60e9",
   "metadata": {},
   "outputs": [],
   "source": []
  },
  {
   "cell_type": "code",
   "execution_count": 8,
   "id": "71c10562",
   "metadata": {},
   "outputs": [
    {
     "data": {
      "text/html": [
       "<div>\n",
       "<style scoped>\n",
       "    .dataframe tbody tr th:only-of-type {\n",
       "        vertical-align: middle;\n",
       "    }\n",
       "\n",
       "    .dataframe tbody tr th {\n",
       "        vertical-align: top;\n",
       "    }\n",
       "\n",
       "    .dataframe thead th {\n",
       "        text-align: right;\n",
       "    }\n",
       "</style>\n",
       "<table border=\"1\" class=\"dataframe\">\n",
       "  <thead>\n",
       "    <tr style=\"text-align: right;\">\n",
       "      <th></th>\n",
       "      <th>timestamp</th>\n",
       "      <th>value</th>\n",
       "      <th>geometry</th>\n",
       "      <th>lng</th>\n",
       "      <th>lat</th>\n",
       "      <th>h3</th>\n",
       "    </tr>\n",
       "  </thead>\n",
       "  <tbody>\n",
       "    <tr>\n",
       "      <th>0</th>\n",
       "      <td>2021-01-02 08:20:13.712000+00:00</td>\n",
       "      <td>1935.911011</td>\n",
       "      <td>POINT (84.45195 25.00075)</td>\n",
       "      <td>84.451946</td>\n",
       "      <td>25.000754</td>\n",
       "      <td>843c123ffffffff</td>\n",
       "    </tr>\n",
       "    <tr>\n",
       "      <th>1</th>\n",
       "      <td>2021-01-02 08:20:09.512000+00:00</td>\n",
       "      <td>1924.194824</td>\n",
       "      <td>POINT (84.20844 24.64302)</td>\n",
       "      <td>84.208445</td>\n",
       "      <td>24.643024</td>\n",
       "      <td>843c127ffffffff</td>\n",
       "    </tr>\n",
       "    <tr>\n",
       "      <th>2</th>\n",
       "      <td>2021-01-02 08:20:25.472000+00:00</td>\n",
       "      <td>1930.083496</td>\n",
       "      <td>POINT (83.78289 25.34387)</td>\n",
       "      <td>83.782890</td>\n",
       "      <td>25.343869</td>\n",
       "      <td>843c129ffffffff</td>\n",
       "    </tr>\n",
       "    <tr>\n",
       "      <th>3</th>\n",
       "      <td>2021-01-02 08:20:22.112000+00:00</td>\n",
       "      <td>1927.322998</td>\n",
       "      <td>POINT (83.54106 24.98673)</td>\n",
       "      <td>83.541059</td>\n",
       "      <td>24.986733</td>\n",
       "      <td>843c12dffffffff</td>\n",
       "    </tr>\n",
       "    <tr>\n",
       "      <th>4</th>\n",
       "      <td>2021-01-02 08:20:16.232000+00:00</td>\n",
       "      <td>1912.988037</td>\n",
       "      <td>POINT (85.15534 25.36219)</td>\n",
       "      <td>85.155342</td>\n",
       "      <td>25.362193</td>\n",
       "      <td>843c131ffffffff</td>\n",
       "    </tr>\n",
       "    <tr>\n",
       "      <th>...</th>\n",
       "      <td>...</td>\n",
       "      <td>...</td>\n",
       "      <td>...</td>\n",
       "      <td>...</td>\n",
       "      <td>...</td>\n",
       "      <td>...</td>\n",
       "    </tr>\n",
       "    <tr>\n",
       "      <th>29747</th>\n",
       "      <td>2021-11-10 07:30:10.224000+00:00</td>\n",
       "      <td>1940.050903</td>\n",
       "      <td>POINT (92.90386 25.58627)</td>\n",
       "      <td>92.903855</td>\n",
       "      <td>25.586271</td>\n",
       "      <td>843cee1ffffffff</td>\n",
       "    </tr>\n",
       "    <tr>\n",
       "      <th>29748</th>\n",
       "      <td>2021-11-10 07:30:10.224000+00:00</td>\n",
       "      <td>1945.976929</td>\n",
       "      <td>POINT (93.37831 25.56505)</td>\n",
       "      <td>93.378307</td>\n",
       "      <td>25.565047</td>\n",
       "      <td>843cee3ffffffff</td>\n",
       "    </tr>\n",
       "    <tr>\n",
       "      <th>29749</th>\n",
       "      <td>2021-11-10 07:30:07.704000+00:00</td>\n",
       "      <td>1936.777344</td>\n",
       "      <td>POINT (93.11398 25.21755)</td>\n",
       "      <td>93.113981</td>\n",
       "      <td>25.217554</td>\n",
       "      <td>843cee7ffffffff</td>\n",
       "    </tr>\n",
       "    <tr>\n",
       "      <th>29750</th>\n",
       "      <td>2021-11-10 07:30:16.944000+00:00</td>\n",
       "      <td>1931.193604</td>\n",
       "      <td>POINT (92.69327 25.95322)</td>\n",
       "      <td>92.693275</td>\n",
       "      <td>25.953221</td>\n",
       "      <td>843cee9ffffffff</td>\n",
       "    </tr>\n",
       "    <tr>\n",
       "      <th>29751</th>\n",
       "      <td>2021-11-10 07:30:13.584000+00:00</td>\n",
       "      <td>1939.008423</td>\n",
       "      <td>POINT (93.16817 25.93291)</td>\n",
       "      <td>93.168171</td>\n",
       "      <td>25.932911</td>\n",
       "      <td>843ceebffffffff</td>\n",
       "    </tr>\n",
       "  </tbody>\n",
       "</table>\n",
       "<p>29752 rows × 6 columns</p>\n",
       "</div>"
      ],
      "text/plain": [
       "                             timestamp        value  \\\n",
       "0     2021-01-02 08:20:13.712000+00:00  1935.911011   \n",
       "1     2021-01-02 08:20:09.512000+00:00  1924.194824   \n",
       "2     2021-01-02 08:20:25.472000+00:00  1930.083496   \n",
       "3     2021-01-02 08:20:22.112000+00:00  1927.322998   \n",
       "4     2021-01-02 08:20:16.232000+00:00  1912.988037   \n",
       "...                                ...          ...   \n",
       "29747 2021-11-10 07:30:10.224000+00:00  1940.050903   \n",
       "29748 2021-11-10 07:30:10.224000+00:00  1945.976929   \n",
       "29749 2021-11-10 07:30:07.704000+00:00  1936.777344   \n",
       "29750 2021-11-10 07:30:16.944000+00:00  1931.193604   \n",
       "29751 2021-11-10 07:30:13.584000+00:00  1939.008423   \n",
       "\n",
       "                        geometry        lng        lat               h3  \n",
       "0      POINT (84.45195 25.00075)  84.451946  25.000754  843c123ffffffff  \n",
       "1      POINT (84.20844 24.64302)  84.208445  24.643024  843c127ffffffff  \n",
       "2      POINT (83.78289 25.34387)  83.782890  25.343869  843c129ffffffff  \n",
       "3      POINT (83.54106 24.98673)  83.541059  24.986733  843c12dffffffff  \n",
       "4      POINT (85.15534 25.36219)  85.155342  25.362193  843c131ffffffff  \n",
       "...                          ...        ...        ...              ...  \n",
       "29747  POINT (92.90386 25.58627)  92.903855  25.586271  843cee1ffffffff  \n",
       "29748  POINT (93.37831 25.56505)  93.378307  25.565047  843cee3ffffffff  \n",
       "29749  POINT (93.11398 25.21755)  93.113981  25.217554  843cee7ffffffff  \n",
       "29750  POINT (92.69327 25.95322)  92.693275  25.953221  843cee9ffffffff  \n",
       "29751  POINT (93.16817 25.93291)  93.168171  25.932911  843ceebffffffff  \n",
       "\n",
       "[29752 rows x 6 columns]"
      ]
     },
     "execution_count": 8,
     "metadata": {},
     "output_type": "execute_result"
    }
   ],
   "source": [
    "h3_level = 4\n",
    "\n",
    "def lat_lng_to_h3(row):\n",
    "    return h3.geo_to_h3(row.geometry.y, row.geometry.x, h3_level)\n",
    "\n",
    "bharat_hcho['h3'] = bharat_hcho.apply(lat_lng_to_h3, axis=1)\n",
    "bharat_hcho"
   ]
  },
  {
   "cell_type": "code",
   "execution_count": null,
   "id": "b492318b",
   "metadata": {},
   "outputs": [],
   "source": []
  },
  {
   "cell_type": "code",
   "execution_count": 10,
   "id": "e1faf512",
   "metadata": {
    "scrolled": false
   },
   "outputs": [
    {
     "name": "stdout",
     "output_type": "stream",
     "text": [
      "User Guide: https://docs.kepler.gl/docs/keplergl-jupyter\n"
     ]
    }
   ],
   "source": [
    "map_1 = KeplerGl()"
   ]
  },
  {
   "cell_type": "code",
   "execution_count": 11,
   "id": "5ce940b3",
   "metadata": {},
   "outputs": [],
   "source": [
    "map_1.add_data(data=bharat_hcho, name=\"HCHO\")"
   ]
  },
  {
   "cell_type": "code",
   "execution_count": 12,
   "id": "e0ea2719",
   "metadata": {},
   "outputs": [
    {
     "data": {
      "application/vnd.jupyter.widget-view+json": {
       "model_id": "6e487abe7b8a450a9409d56f2f9dd7fe",
       "version_major": 2,
       "version_minor": 0
      },
      "text/plain": [
       "KeplerGl(data={'HCHO': {'index': [0, 1, 2, 3, 4, 5, 6, 7, 8, 9, 10, 11, 12, 13, 14, 15, 16, 17, 18, 19, 20, 21…"
      ]
     },
     "metadata": {},
     "output_type": "display_data"
    }
   ],
   "source": [
    "map_1"
   ]
  },
  {
   "cell_type": "code",
   "execution_count": null,
   "id": "57945c69",
   "metadata": {},
   "outputs": [],
   "source": []
  }
 ],
 "metadata": {
  "kernelspec": {
   "display_name": "Python [conda env:nasa] *",
   "language": "python",
   "name": "conda-env-nasa-py"
  },
  "language_info": {
   "codemirror_mode": {
    "name": "ipython",
    "version": 3
   },
   "file_extension": ".py",
   "mimetype": "text/x-python",
   "name": "python",
   "nbconvert_exporter": "python",
   "pygments_lexer": "ipython3",
   "version": "3.9.7"
  }
 },
 "nbformat": 4,
 "nbformat_minor": 5
}
