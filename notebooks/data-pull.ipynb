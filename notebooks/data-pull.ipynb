{
 "cells": [
  {
   "cell_type": "code",
   "execution_count": 11,
   "id": "428e067f",
   "metadata": {},
   "outputs": [],
   "source": [
    "token = 'EDL-Ua47dc89c9681e55a8ac7847441426fc63da2171de8547a188a1cdff5fc7'"
   ]
  },
  {
   "cell_type": "code",
   "execution_count": 23,
   "id": "76340ada",
   "metadata": {},
   "outputs": [],
   "source": [
    "username = 'nsengar'\n",
    "password = token"
   ]
  },
  {
   "cell_type": "code",
   "execution_count": 5,
   "id": "b7ecafef",
   "metadata": {},
   "outputs": [],
   "source": [
    "import requests"
   ]
  },
  {
   "cell_type": "code",
   "execution_count": 55,
   "id": "8c9adafa",
   "metadata": {},
   "outputs": [
    {
     "name": "stdout",
     "output_type": "stream",
     "text": [
      "requests.get() returned an error code 404\n",
      "requests.get() returned an error code 404\n",
      "requests.get() returned an error code 404\n",
      "requests.get() returned an error code 404\n",
      "requests.get() returned an error code 404\n",
      "requests.get() returned an error code 404\n",
      "requests.get() returned an error code 404\n",
      "requests.get() returned an error code 404\n"
     ]
    }
   ],
   "source": [
    "# Set the URL string to point to a specific data URL. Some generic examples are:\n",
    "#   https://servername/data/path/file\n",
    "#   https://servername/opendap/path/file[.format[?subset]]\n",
    "#   https://servername/daac-bin/OTF/HTTP_services.cgi?KEYWORD=value[&KEYWORD=value]\n",
    "short_names = ('APCPsfc','DLWRFsfc','DSWRFsfc','PEVAPsfc','SPFH2m','TMP2m','UGRD10m','VGRD10m',)\n",
    "product = 'NLDAS:NLDAS_FORA0125_H.002'\n",
    "\n",
    "for short_name in short_names:\n",
    "    var = product+':'+short_name\n",
    "    locx = 'X034'\n",
    "    locy = 'Y071'\n",
    "    start = '2015-01-01T00'\n",
    "    end = '2021-06-20T23'\n",
    "#     URL = f'https://hydro1.gesdisc.eosdis.nasa.gov/daac-bin/access/timeseries.cgi?variable={var}&location=NLDAS:{locx}-{locy}&startDate={start}&endDate={end}&type=asc2'\n",
    "    URL = 'https://hydro1.gesdisc.eosdis.nasa.gov/daac-bin/access/timeseries.cgi?variable=NLDAS:NLDAS_FORA0125_H.002:APCPsfc&location=NLDAS:X304-Y071&startDate=2015-01-01T00&endDate=2015-06-20T23&type=asc2'\n",
    "    # Set the FILENAME string to the data file name, the LABEL keyword value, or any customized name. \n",
    "    FILENAME = f'file_{short_name}.txt'\n",
    "\n",
    "    import requests\n",
    "    result = requests.get(URL)\n",
    "    try:\n",
    "        result.raise_for_status()\n",
    "        f = open(FILENAME,'wb')\n",
    "        f.write(result.content)\n",
    "        f.close()\n",
    "        print('contents of URL written to '+FILENAME)\n",
    "    except:\n",
    "        print('requests.get() returned an error code '+str(result.status_code))"
   ]
  },
  {
   "cell_type": "code",
   "execution_count": 53,
   "id": "d03e26ca",
   "metadata": {},
   "outputs": [
    {
     "name": "stdout",
     "output_type": "stream",
     "text": [
      "https://hydro1.gesdisc.eosdis.nasa.gov/daac-bin/access/timeseries.cgi?variable=NLDAS:NLDAS_FORA0125_H.002:APCPsfc&location=NLDAS:X034-Y071&startDate=2021-10-01T00&endDate=2021-10-21T23&type=asc2\n",
      "https://hydro1.gesdisc.eosdis.nasa.gov/daac-bin/access/timeseries.cgi?variable=NLDAS:NLDAS_FORA0125_H.002:APCPsfc&location=NLDAS:X304-Y071&startDate=2015-01-01T00&endDate=2015-06-20T23&type=asc2\n"
     ]
    }
   ],
   "source": []
  },
  {
   "cell_type": "code",
   "execution_count": null,
   "id": "ddc0ad68",
   "metadata": {},
   "outputs": [],
   "source": []
  }
 ],
 "metadata": {
  "kernelspec": {
   "display_name": "Python 3",
   "language": "python",
   "name": "python3"
  },
  "language_info": {
   "codemirror_mode": {
    "name": "ipython",
    "version": 3
   },
   "file_extension": ".py",
   "mimetype": "text/x-python",
   "name": "python",
   "nbconvert_exporter": "python",
   "pygments_lexer": "ipython3",
   "version": "3.8.5"
  }
 },
 "nbformat": 4,
 "nbformat_minor": 5
}
